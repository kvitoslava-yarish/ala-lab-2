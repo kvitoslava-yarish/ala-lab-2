{
 "cells": [
  {
   "cell_type": "code",
   "id": "initial_id",
   "metadata": {
    "collapsed": true,
    "ExecuteTime": {
     "end_time": "2024-06-15T17:18:12.654678Z",
     "start_time": "2024-06-15T17:18:12.521612Z"
    }
   },
   "source": "import numpy as np",
   "outputs": [],
   "execution_count": 1
  },
  {
   "metadata": {
    "ExecuteTime": {
     "end_time": "2024-06-15T17:44:25.747303Z",
     "start_time": "2024-06-15T17:44:25.731115Z"
    }
   },
   "cell_type": "code",
   "source": [
    "def encrypt_message (message, key_matrix):\n",
    "    message_vector = np.array([ord(char) for char in message])\n",
    "    eigenvalues, eigenvectors = np.linalg.eigh(key_matrix)\n",
    "    diagonalized_key_matrix = np.dot(np.dot(eigenvectors, np.diag(eigenvalues)), np.linalg.inv(eigenvectors))\n",
    "    encrypted_vector = np.dot(diagonalized_key_matrix, message_vector)\n",
    "    return encrypted_vector\n",
    "def decrypt_message (encrypted_matrix, key_matrix):\n",
    "    eigenvalues, eigenvectors = np.linalg.eigh(key_matrix)\n",
    "    multiplier = np.linalg.inv(np.dot(np.dot(eigenvectors, np.diag(eigenvalues)), np.linalg.inv(eigenvectors)))\n",
    "    decrypted_message_utf = np.dot(encrypted_matrix, multiplier)\n",
    "    decrypted_message = []\n",
    "    for char in decrypted_message_utf:\n",
    "        decrypted_message.append(chr(int(np.round(char))))\n",
    "    return decrypted_message\n",
    "message = \"Hello World\"\n",
    "print(message)\n",
    "key_matrix = np.random.randint(0, 256, (len(message), len(message)))  \n",
    "encrypted_message = encrypt_message(message, key_matrix)\n",
    "print(\"Encrypted message\", encrypted_message)\n",
    "decrypted_message = decrypt_message(encrypted_message, key_matrix)\n",
    "print(\"Decrypted message\", \"\".join(decrypted_message))"
   ],
   "id": "d6cfa7b78f6ae485",
   "outputs": [
    {
     "name": "stdout",
     "output_type": "stream",
     "text": [
      "Hello World\n",
      "Encrypted message [ 98265. 140393. 122646. 135470. 132599. 149394. 132501. 109255. 105878.\n",
      " 165628. 143885.]\n",
      "Decrypted message Hello World\n"
     ]
    }
   ],
   "execution_count": 11
  },
  {
   "metadata": {},
   "cell_type": "code",
   "outputs": [],
   "execution_count": null,
   "source": "",
   "id": "3ec1fea0f1097d50"
  }
 ],
 "metadata": {
  "kernelspec": {
   "display_name": "Python 3",
   "language": "python",
   "name": "python3"
  },
  "language_info": {
   "codemirror_mode": {
    "name": "ipython",
    "version": 2
   },
   "file_extension": ".py",
   "mimetype": "text/x-python",
   "name": "python",
   "nbconvert_exporter": "python",
   "pygments_lexer": "ipython2",
   "version": "2.7.6"
  }
 },
 "nbformat": 4,
 "nbformat_minor": 5
}
