{
 "cells": [
  {
   "metadata": {},
   "cell_type": "markdown",
   "source": " ## Eigenvalues and right eigenvectors",
   "id": "9cd17585844f9d7a"
  },
  {
   "metadata": {
    "ExecuteTime": {
     "end_time": "2024-06-15T10:35:17.766868Z",
     "start_time": "2024-06-15T10:35:17.751639Z"
    }
   },
   "cell_type": "code",
   "source": [
    "import numpy as np\n",
    "\n",
    "\n",
    "def  eigenvalues_eigenvectors(transform_matrix: np.array) -> np.array:\n",
    "    eigenvalues, eigenvectors = np.linalg.eig(transform_matrix)\n",
    "\n",
    "    is_valid = True\n",
    "    for eigenvalue, eigenvector in zip(eigenvalues, eigenvectors.T):\n",
    "        if not np.allclose(np.dot(transform_matrix, eigenvector), eigenvalue * eigenvector):\n",
    "            print(np.dot(transform_matrix, eigenvector))\n",
    "            print(eigenvalue * eigenvector)\n",
    "            is_valid = False\n",
    "    return (eigenvalues, eigenvectors) if is_valid else ()\n",
    "\n",
    "eigenvalues_eigenvectors(np.array([[-26, -33, -25], [31, 42, 23], [-11,-15,-4]]))\n",
    "#np.array([[-26, -33, -25], [31, 42, 23], [-11,-15,-4]]) "
   ],
   "id": "2c02728522e4d060",
   "outputs": [
    {
     "data": {
      "text/plain": [
       "(array([15., -6.,  3.]),\n",
       " array([[ 0.40824829, -0.80829038, -0.81649658],\n",
       "        [-0.81649658,  0.57735027,  0.40824829],\n",
       "        [ 0.40824829, -0.11547005,  0.40824829]]))"
      ]
     },
     "execution_count": 14,
     "metadata": {},
     "output_type": "execute_result"
    }
   ],
   "execution_count": 14
  },
  {
   "metadata": {},
   "cell_type": "code",
   "outputs": [],
   "execution_count": null,
   "source": "",
   "id": "f56d5ceb30bec668"
  }
 ],
 "metadata": {
  "kernelspec": {
   "display_name": "Python 3",
   "language": "python",
   "name": "python3"
  },
  "language_info": {
   "codemirror_mode": {
    "name": "ipython",
    "version": 2
   },
   "file_extension": ".py",
   "mimetype": "text/x-python",
   "name": "python",
   "nbconvert_exporter": "python",
   "pygments_lexer": "ipython2",
   "version": "2.7.6"
  }
 },
 "nbformat": 4,
 "nbformat_minor": 5
}
